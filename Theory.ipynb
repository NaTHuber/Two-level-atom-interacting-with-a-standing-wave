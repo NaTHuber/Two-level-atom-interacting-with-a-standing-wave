{
 "cells": [
  {
   "cell_type": "markdown",
   "id": "17eaa1ac-fe5b-47ca-878c-f8bdc8ae0d00",
   "metadata": {},
   "source": [
    "# Two-level atom interacting with a standing wave\n",
    "\n",
    "The system of coupled partial differential equations in its dimensionless form describing the dynamics of a two-level atom interacting with a standing electromagnetic wave in the semi-classical approximation in the interaction picture is as follows:\n",
    "\n",
    "$$\n",
    "i f_1 = - \\frac{\\partial^2 f_1}{\\partial z^2} + \\frac{1}{2} \\delta \\bar{f}_1 + \\bar{\\Omega} \\cos(\\bar{q} z) f_2,\n",
    "$$\n",
    "\n",
    "$$\n",
    "i f_2 = - \\frac{\\partial^2 f_2}{\\partial z^2} - \\frac{1}{2} \\delta \\bar{f}_2 + \\bar{\\Omega} \\cos(\\bar{q} z) f_1.\n",
    "$$\n",
    "\n",
    "## Development of the equations in momentum space for the two-level system.\n",
    "\n",
    "Since the analysis that is intended to be done on the system is in the space of moments, a series solution is proposed in said space in the form\n",
    "$$ \n",
    "\\sum_{n=-\\infty}^{\\infty} e^{i n q z} C_n(t),\n",
    "$$ \n",
    "To write the ansätze explicitly, we will consider that the atoms are wave packets, with an initial momentum $ \\bar{p}_0 = \\frac{n_0}{k} $ \n",
    "\n",
    "$$\n",
    "f_1(\\bar{z}, \\tau) = e^{i \\bar{p}_0 \\bar{z}} \\sum_{n=-\\infty}^{\\infty} e^{i n \\bar{q} \\bar{z}} a_n(\\tau),\n",
    "$$ \n",
    "\n",
    "$$\n",
    "f_2(\\bar{z}, \\tau) = e^{i \\bar{p}_0 \\bar{z}} \\sum_{n=-\\infty}^{\\infty} e^{i n \\bar{q} \\bar{z}} b_n(\\tau),\n",
    "$$\n",
    "Then we get the following equations \n",
    "$$\n",
    "i \\dot{a}_n(\\tau) = (n \\bar{q} + \\bar{p}_0)^2 a_n(\\tau) + \\frac{\\bar{\\delta}}{2} a_n(\\tau) + \\frac{\\bar{\\Omega}}{2} \\left(b_{n-1}(\\tau) + b_{n+1}(\\tau)\\right),\n",
    "$$ \n",
    "$$\n",
    "i \\dot{b}_n(\\tau) = (n \\bar{q} + \\bar{p}_0)^2 b_n(\\tau) - \\frac{\\bar{\\delta}}{2} b_n(\\tau) + \\frac{\\bar{\\Omega}}{2} \\left(a_{n-1}(\\tau) + a_{n+1}(\\tau)\\right).\n",
    "$$"
   ]
  },
  {
   "cell_type": "markdown",
   "id": "3a0d5db6-5c81-4479-abca-16aaf1861984",
   "metadata": {},
   "source": [
    "## Adiabatic approach to the problem\n",
    "Since one is primarily interested in the slow atomic motion of the center of mass and the internal atomic dynamics take place in times much shorter than the time associated with the natural decay of the atom, it is a good approximation to assume that the internal motion is instantaneously damped to equilibrium compared to the external motion of the atom, so we get only one equation that describes the system (base state) \n",
    "\n",
    "$$\n",
    "i \\dot{a}_n(\\tau) = (n \\bar{q} + \\bar{p}_0)^2 a_n(\\tau) + \\frac{\\bar{\\Omega}^2}{4 \\bar{\\delta}} \\left( 2 a_n(\\tau) + a_{n-2}(\\tau) + a_{n+2}(\\tau) \\right),\n",
    "$$\n",
    "\n",
    "$$\n",
    "= \\left( (n \\bar{q} + \\bar{p}_0)^2 + \\frac{\\bar{\\Omega}^2}{2 \\bar{\\delta}} \\right) a_n(\\tau) + \\frac{\\bar{\\Omega}^2}{4 \\bar{\\delta}} \\left( a_{n-2}(\\tau) + a_{n+2}(\\tau) \\right).\n",
    "$$\n",
    "The dimensional form of the equation is\n",
    "$$\n",
    "i \\dot{a}_n(t) = \\left( \\omega_{\\text{rec}} n^2 + \\Omega_{\\text{dim}} \\right) a_n(t) + \\frac{\\Omega_{\\text{dim}}}{2} \\left( a_{n-2}(t) + a_{n+2}(t) \\right),\n",
    "$$ \n",
    "where \n",
    "$$\n",
    "\\Omega_{\\text{dim}} = \\frac{\\Omega_{12}^2}{2 \\delta}.\n",
    "$$ \n",
    "\n",
    "If you want to know more about the subject and the deduction of the equations you can consult my thesis work at:\n",
    "\n",
    "\n",
    "Báez de la Luz, N. (2023). Interacción átomo-campo en redes ópticas dispersivas [Tesis de licenciatura, Universidad Nacional Autónoma de México]. Repositorio UNAM. https://acortar.link/QdmYmz "
   ]
  },
  {
   "cell_type": "code",
   "execution_count": null,
   "id": "8cef2f55-068f-49a1-9874-571e720d1201",
   "metadata": {},
   "outputs": [],
   "source": []
  }
 ],
 "metadata": {
  "kernelspec": {
   "display_name": "Julia 1.11.1",
   "language": "julia",
   "name": "julia-1.11"
  },
  "language_info": {
   "file_extension": ".jl",
   "mimetype": "application/julia",
   "name": "julia",
   "version": "1.11.1"
  }
 },
 "nbformat": 4,
 "nbformat_minor": 5
}
